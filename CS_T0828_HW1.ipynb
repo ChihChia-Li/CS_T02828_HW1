{
  "nbformat": 4,
  "nbformat_minor": 0,
  "metadata": {
    "colab": {
      "name": "CS_T0828_HW1.ipynb",
      "provenance": [],
      "collapsed_sections": []
    },
    "kernelspec": {
      "name": "python3",
      "display_name": "Python 3"
    },
    "accelerator": "GPU",
    "widgets": {
      "application/vnd.jupyter.widget-state+json": {
        "1cd513e3d61943ae90b630164b4bb7e0": {
          "model_module": "@jupyter-widgets/controls",
          "model_name": "HBoxModel",
          "state": {
            "_view_name": "HBoxView",
            "_dom_classes": [],
            "_model_name": "HBoxModel",
            "_view_module": "@jupyter-widgets/controls",
            "_model_module_version": "1.5.0",
            "_view_count": null,
            "_view_module_version": "1.5.0",
            "box_style": "",
            "layout": "IPY_MODEL_a68647f56d244bb5b7ab6c1f5b016eeb",
            "_model_module": "@jupyter-widgets/controls",
            "children": [
              "IPY_MODEL_04cf7b9363c741378179acc9c2f1f86e",
              "IPY_MODEL_0c60a580036b48c3a5993792b753a8e0"
            ]
          }
        },
        "a68647f56d244bb5b7ab6c1f5b016eeb": {
          "model_module": "@jupyter-widgets/base",
          "model_name": "LayoutModel",
          "state": {
            "_view_name": "LayoutView",
            "grid_template_rows": null,
            "right": null,
            "justify_content": null,
            "_view_module": "@jupyter-widgets/base",
            "overflow": null,
            "_model_module_version": "1.2.0",
            "_view_count": null,
            "flex_flow": null,
            "width": null,
            "min_width": null,
            "border": null,
            "align_items": null,
            "bottom": null,
            "_model_module": "@jupyter-widgets/base",
            "top": null,
            "grid_column": null,
            "overflow_y": null,
            "overflow_x": null,
            "grid_auto_flow": null,
            "grid_area": null,
            "grid_template_columns": null,
            "flex": null,
            "_model_name": "LayoutModel",
            "justify_items": null,
            "grid_row": null,
            "max_height": null,
            "align_content": null,
            "visibility": null,
            "align_self": null,
            "height": null,
            "min_height": null,
            "padding": null,
            "grid_auto_rows": null,
            "grid_gap": null,
            "max_width": null,
            "order": null,
            "_view_module_version": "1.2.0",
            "grid_template_areas": null,
            "object_position": null,
            "object_fit": null,
            "grid_auto_columns": null,
            "margin": null,
            "display": null,
            "left": null
          }
        },
        "04cf7b9363c741378179acc9c2f1f86e": {
          "model_module": "@jupyter-widgets/controls",
          "model_name": "FloatProgressModel",
          "state": {
            "_view_name": "ProgressView",
            "style": "IPY_MODEL_d945b09c78d7484191f23e6b279726ac",
            "_dom_classes": [],
            "description": "100%",
            "_model_name": "FloatProgressModel",
            "bar_style": "success",
            "max": 102502400,
            "_view_module": "@jupyter-widgets/controls",
            "_model_module_version": "1.5.0",
            "value": 102502400,
            "_view_count": null,
            "_view_module_version": "1.5.0",
            "orientation": "horizontal",
            "min": 0,
            "description_tooltip": null,
            "_model_module": "@jupyter-widgets/controls",
            "layout": "IPY_MODEL_3b8cec1e858e4aab9a7046d86ef0b634"
          }
        },
        "0c60a580036b48c3a5993792b753a8e0": {
          "model_module": "@jupyter-widgets/controls",
          "model_name": "HTMLModel",
          "state": {
            "_view_name": "HTMLView",
            "style": "IPY_MODEL_6ebbfde79abb4ca5ac2c5e2d4ada70d0",
            "_dom_classes": [],
            "description": "",
            "_model_name": "HTMLModel",
            "placeholder": "​",
            "_view_module": "@jupyter-widgets/controls",
            "_model_module_version": "1.5.0",
            "value": " 97.8M/97.8M [00:37&lt;00:00, 2.74MB/s]",
            "_view_count": null,
            "_view_module_version": "1.5.0",
            "description_tooltip": null,
            "_model_module": "@jupyter-widgets/controls",
            "layout": "IPY_MODEL_dcd0db8445d247578c856ecf1e92a31c"
          }
        },
        "d945b09c78d7484191f23e6b279726ac": {
          "model_module": "@jupyter-widgets/controls",
          "model_name": "ProgressStyleModel",
          "state": {
            "_view_name": "StyleView",
            "_model_name": "ProgressStyleModel",
            "description_width": "initial",
            "_view_module": "@jupyter-widgets/base",
            "_model_module_version": "1.5.0",
            "_view_count": null,
            "_view_module_version": "1.2.0",
            "bar_color": null,
            "_model_module": "@jupyter-widgets/controls"
          }
        },
        "3b8cec1e858e4aab9a7046d86ef0b634": {
          "model_module": "@jupyter-widgets/base",
          "model_name": "LayoutModel",
          "state": {
            "_view_name": "LayoutView",
            "grid_template_rows": null,
            "right": null,
            "justify_content": null,
            "_view_module": "@jupyter-widgets/base",
            "overflow": null,
            "_model_module_version": "1.2.0",
            "_view_count": null,
            "flex_flow": null,
            "width": null,
            "min_width": null,
            "border": null,
            "align_items": null,
            "bottom": null,
            "_model_module": "@jupyter-widgets/base",
            "top": null,
            "grid_column": null,
            "overflow_y": null,
            "overflow_x": null,
            "grid_auto_flow": null,
            "grid_area": null,
            "grid_template_columns": null,
            "flex": null,
            "_model_name": "LayoutModel",
            "justify_items": null,
            "grid_row": null,
            "max_height": null,
            "align_content": null,
            "visibility": null,
            "align_self": null,
            "height": null,
            "min_height": null,
            "padding": null,
            "grid_auto_rows": null,
            "grid_gap": null,
            "max_width": null,
            "order": null,
            "_view_module_version": "1.2.0",
            "grid_template_areas": null,
            "object_position": null,
            "object_fit": null,
            "grid_auto_columns": null,
            "margin": null,
            "display": null,
            "left": null
          }
        },
        "6ebbfde79abb4ca5ac2c5e2d4ada70d0": {
          "model_module": "@jupyter-widgets/controls",
          "model_name": "DescriptionStyleModel",
          "state": {
            "_view_name": "StyleView",
            "_model_name": "DescriptionStyleModel",
            "description_width": "",
            "_view_module": "@jupyter-widgets/base",
            "_model_module_version": "1.5.0",
            "_view_count": null,
            "_view_module_version": "1.2.0",
            "_model_module": "@jupyter-widgets/controls"
          }
        },
        "dcd0db8445d247578c856ecf1e92a31c": {
          "model_module": "@jupyter-widgets/base",
          "model_name": "LayoutModel",
          "state": {
            "_view_name": "LayoutView",
            "grid_template_rows": null,
            "right": null,
            "justify_content": null,
            "_view_module": "@jupyter-widgets/base",
            "overflow": null,
            "_model_module_version": "1.2.0",
            "_view_count": null,
            "flex_flow": null,
            "width": null,
            "min_width": null,
            "border": null,
            "align_items": null,
            "bottom": null,
            "_model_module": "@jupyter-widgets/base",
            "top": null,
            "grid_column": null,
            "overflow_y": null,
            "overflow_x": null,
            "grid_auto_flow": null,
            "grid_area": null,
            "grid_template_columns": null,
            "flex": null,
            "_model_name": "LayoutModel",
            "justify_items": null,
            "grid_row": null,
            "max_height": null,
            "align_content": null,
            "visibility": null,
            "align_self": null,
            "height": null,
            "min_height": null,
            "padding": null,
            "grid_auto_rows": null,
            "grid_gap": null,
            "max_width": null,
            "order": null,
            "_view_module_version": "1.2.0",
            "grid_template_areas": null,
            "object_position": null,
            "object_fit": null,
            "grid_auto_columns": null,
            "margin": null,
            "display": null,
            "left": null
          }
        }
      }
    }
  },
  "cells": [
    {
      "cell_type": "markdown",
      "metadata": {
        "id": "G3GfUJqF2z6W"
      },
      "source": [
        "## **CS_T0828_HW1**\n"
      ]
    },
    {
      "cell_type": "code",
      "metadata": {
        "id": "PxmXbtsWVvOD",
        "outputId": "02ed6ecf-baea-4077-aae0-3f6616bf7ee1",
        "colab": {
          "base_uri": "https://localhost:8080/"
        }
      },
      "source": [
        "import matplotlib.pyplot as plt\n",
        "import numpy as np\n",
        "\n",
        "import torch\n",
        "import torch.nn as nn\n",
        "import torch.optim as optim\n",
        "import torchvision\n",
        "import torchvision.models as models\n",
        "import torchvision.transforms as transforms\n",
        "from torch.autograd import Variable\n",
        "\n",
        "import time\n",
        "import os\n",
        "import PIL.Image as Image\n",
        "from IPython.display import display\n",
        "\n",
        "dataset_dir = \"/content/drive/My Drive/CS_T0828_HW1/\"\n",
        "\n",
        "device = torch.device(\"cuda:0\" if torch.cuda.is_available() else \"cpu\")\n",
        "print(device)\n",
        "print(torch.cuda.get_device_name(device))"
      ],
      "execution_count": 2,
      "outputs": [
        {
          "output_type": "stream",
          "text": [
            "cuda:0\n",
            "Tesla T4\n"
          ],
          "name": "stdout"
        }
      ]
    },
    {
      "cell_type": "markdown",
      "metadata": {
        "id": "FyXE8tfG2-xB"
      },
      "source": [
        "Setup training dataset and testing dataset"
      ]
    },
    {
      "cell_type": "code",
      "metadata": {
        "id": "LtCIFm-OWQLr"
      },
      "source": [
        "train_transform = transforms.Compose([transforms.Resize((400, 400)),\n",
        "                    transforms.RandomHorizontalFlip(),\n",
        "                    transforms.RandomRotation(15),\n",
        "                    transforms.ToTensor(),\n",
        "                    transforms.Normalize((0.5, 0.5, 0.5), (0.5, 0.5, 0.5))])\n",
        "test_transform = transforms.Compose([transforms.Resize((400, 400)),\n",
        "                    transforms.ToTensor(),\n",
        "                    transforms.Normalize((0.5, 0.5, 0.5), (0.5, 0.5, 0.5))])\n",
        "\n",
        "traindataset = torchvision.datasets.ImageFolder(root=dataset_dir+'train', transform=train_transform)\n",
        "trainloader = torch.utils.data.DataLoader(traindataset, batch_size=32, shuffle=True, num_workers=2)\n",
        "\n",
        "testdataset = torchvision.datasets.ImageFolder(root=dataset_dir+'test', transform=test_transform)\n",
        "testloader = torch.utils.data.DataLoader(testdataset, batch_size=32, shuffle=False, num_workers=2)\n"
      ],
      "execution_count": 3,
      "outputs": []
    },
    {
      "cell_type": "markdown",
      "metadata": {
        "id": "Oi_G7Dr73FTg"
      },
      "source": [
        "Use pretrained resnet34 model"
      ]
    },
    {
      "cell_type": "code",
      "metadata": {
        "id": "D6VvCvcvRNwB",
        "outputId": "790a2115-30f0-44c1-fa2a-a60f924f8081",
        "colab": {
          "base_uri": "https://localhost:8080/",
          "height": 84,
          "referenced_widgets": [
            "1cd513e3d61943ae90b630164b4bb7e0",
            "a68647f56d244bb5b7ab6c1f5b016eeb",
            "04cf7b9363c741378179acc9c2f1f86e",
            "0c60a580036b48c3a5993792b753a8e0",
            "d945b09c78d7484191f23e6b279726ac",
            "3b8cec1e858e4aab9a7046d86ef0b634",
            "6ebbfde79abb4ca5ac2c5e2d4ada70d0",
            "dcd0db8445d247578c856ecf1e92a31c"
          ]
        }
      },
      "source": [
        "model_ft = models.resnet50(pretrained=True)\n",
        "num_ftrs = model_ft.fc.in_features\n",
        "# replace the last fc layer with an untrained one (requires grad by default)\n",
        "model_ft.fc = nn.Linear(num_ftrs, 196)\n",
        "model_ft = model_ft.to(device)\n",
        "\n",
        "criterion = nn.CrossEntropyLoss()\n",
        "optimizer = optim.SGD(model_ft.parameters(), lr=0.01, momentum=0.9)\n",
        "\n",
        "lrscheduler = optim.lr_scheduler.ReduceLROnPlateau(optimizer, mode='max', patience=3, threshold=0.9)"
      ],
      "execution_count": 4,
      "outputs": [
        {
          "output_type": "stream",
          "text": [
            "Downloading: \"https://download.pytorch.org/models/resnet50-19c8e357.pth\" to /root/.cache/torch/hub/checkpoints/resnet50-19c8e357.pth\n"
          ],
          "name": "stderr"
        },
        {
          "output_type": "display_data",
          "data": {
            "application/vnd.jupyter.widget-view+json": {
              "model_id": "1cd513e3d61943ae90b630164b4bb7e0",
              "version_minor": 0,
              "version_major": 2
            },
            "text/plain": [
              "HBox(children=(FloatProgress(value=0.0, max=102502400.0), HTML(value='')))"
            ]
          },
          "metadata": {
            "tags": []
          }
        },
        {
          "output_type": "stream",
          "text": [
            "\n"
          ],
          "name": "stdout"
        }
      ]
    },
    {
      "cell_type": "markdown",
      "metadata": {
        "id": "hoO96z763Twm"
      },
      "source": [
        "Training model"
      ]
    },
    {
      "cell_type": "code",
      "metadata": {
        "id": "kyRxKloSbe1z"
      },
      "source": [
        "def train_model(model, criterion, optimizer, scheduler, n_epochs=5): \n",
        "  losses = []\n",
        "  accuracies = []\n",
        "  test_accuracies = []\n",
        "  # set the model to train mode initially\n",
        "  model.train()\n",
        "  for epoch in range(n_epochs):\n",
        "    since = time.time()\n",
        "    running_loss = 0.0\n",
        "    running_correct = 0.0\n",
        "    for i, data in enumerate(trainloader, 0):\n",
        "      # get the inputs and assign them to cuda\n",
        "      inputs, labels = data\n",
        "      optimizer.zero_grad()\n",
        "      inputs = Variable(inputs).to(device)\n",
        "      labels = Variable(labels).to(device)\n",
        "\n",
        "      # forward + backward + optimize\n",
        "      outputs = model(inputs)\n",
        "      _, predicted = torch.max(outputs.data, 1)\n",
        "\n",
        "      loss = criterion(outputs, labels)\n",
        "      loss.backward()\n",
        "      optimizer.step()\n",
        "      # calculate the loss/acc later\n",
        "      running_loss += loss.item()\n",
        "      running_correct += (labels == predicted).sum().item()\n",
        "\n",
        "    epoch_duration = time.time()-since\n",
        "    epoch_loss = running_loss/len(trainloader)\n",
        "    epoch_acc = 100/32*running_correct/len(trainloader)\n",
        "    print(\"Epoch %s, duration: %d s, loss: %.4f, acc: %.4f\" % (epoch+1, epoch_duration, epoch_loss, epoch_acc))\n",
        "    \n",
        "    losses.append(epoch_loss)\n",
        "    accuracies.append(epoch_acc)\n",
        "\n",
        "    # switch the model to eval mode to evaluate on test data\n",
        "    test_acc = eval_model(model)\n",
        "    test_accuracies.append(test_acc)\n",
        "    # re-set the model to train mode after validating\n",
        "    model.train()\n",
        "    scheduler.step(test_acc)\n",
        "    since = time.time()\n",
        "  print('Finished Training')\n",
        "  return model, losses, accuracies, test_accuracies"
      ],
      "execution_count": 5,
      "outputs": []
    },
    {
      "cell_type": "markdown",
      "metadata": {
        "id": "YsPBhARL3WJd"
      },
      "source": [
        "Evaluate model"
      ]
    },
    {
      "cell_type": "code",
      "metadata": {
        "id": "AD2EIlvCgA4E"
      },
      "source": [
        "def eval_model(model_ev):\n",
        "  correct = 0.0\n",
        "  total = 0.0\n",
        "  model_ev.eval()\n",
        "  with torch.no_grad():\n",
        "    for i, data in enumerate(testloader, 0):\n",
        "      images, labels = data\n",
        "      images = images.to(device)\n",
        "      labels = labels.to(device)\n",
        "\n",
        "      outputs = model_ev(images)\n",
        "      _, predicted = torch.max(outputs.data, 1)\n",
        "\n",
        "      total += labels.size(0)\n",
        "      correct += (predicted == labels).sum().item()\n",
        "\n",
        "    test_acc = 100.0 * correct / total\n",
        "    print('Accuracy of the network on the test images: %d %%' % (test_acc))\n",
        "    return test_acc"
      ],
      "execution_count": 6,
      "outputs": []
    },
    {
      "cell_type": "markdown",
      "metadata": {
        "id": "0OFUpthn3c59"
      },
      "source": [
        "Start training model and evaluating on the testing dataset"
      ]
    },
    {
      "cell_type": "code",
      "metadata": {
        "id": "WxXIe2Mugp77",
        "outputId": "bdac6c63-92de-4428-ea6a-85f29d1f2c63",
        "colab": {
          "base_uri": "https://localhost:8080/"
        }
      },
      "source": [
        "model_ft, training_losses, training_accs, test_accs = train_model(model_ft, criterion, optimizer, lrscheduler, n_epochs=20)"
      ],
      "execution_count": 7,
      "outputs": [
        {
          "output_type": "stream",
          "text": [
            "Epoch 1, duration: 2285 s, loss: 3.7347, acc: 19.3452\n",
            "Accuracy of the network on the test images: 41 %\n",
            "Epoch 2, duration: 362 s, loss: 1.4569, acc: 61.6270\n",
            "Accuracy of the network on the test images: 61 %\n",
            "Epoch 3, duration: 362 s, loss: 0.7945, acc: 78.4921\n",
            "Accuracy of the network on the test images: 66 %\n",
            "Epoch 4, duration: 361 s, loss: 0.5085, acc: 86.2798\n",
            "Accuracy of the network on the test images: 67 %\n",
            "Epoch 5, duration: 361 s, loss: 0.3547, acc: 90.3274\n",
            "Accuracy of the network on the test images: 78 %\n",
            "Epoch 6, duration: 362 s, loss: 0.2458, acc: 93.0853\n",
            "Accuracy of the network on the test images: 77 %\n",
            "Epoch 7, duration: 362 s, loss: 0.1876, acc: 94.9802\n",
            "Accuracy of the network on the test images: 84 %\n",
            "Epoch 8, duration: 361 s, loss: 0.1411, acc: 96.1111\n",
            "Accuracy of the network on the test images: 86 %\n",
            "Epoch 9, duration: 361 s, loss: 0.1095, acc: 96.9940\n",
            "Accuracy of the network on the test images: 86 %\n",
            "Epoch 10, duration: 362 s, loss: 0.0603, acc: 98.5218\n",
            "Accuracy of the network on the test images: 90 %\n",
            "Epoch 11, duration: 363 s, loss: 0.0390, acc: 99.1171\n",
            "Accuracy of the network on the test images: 90 %\n",
            "Epoch 12, duration: 362 s, loss: 0.0337, acc: 99.2163\n",
            "Accuracy of the network on the test images: 90 %\n",
            "Epoch 13, duration: 362 s, loss: 0.0288, acc: 99.3651\n",
            "Accuracy of the network on the test images: 90 %\n",
            "Epoch 14, duration: 362 s, loss: 0.0273, acc: 99.3948\n",
            "Accuracy of the network on the test images: 90 %\n",
            "Epoch 15, duration: 362 s, loss: 0.0261, acc: 99.3948\n",
            "Accuracy of the network on the test images: 90 %\n",
            "Epoch 16, duration: 363 s, loss: 0.0265, acc: 99.4048\n",
            "Accuracy of the network on the test images: 90 %\n",
            "Epoch 17, duration: 362 s, loss: 0.0268, acc: 99.3552\n",
            "Accuracy of the network on the test images: 90 %\n",
            "Epoch 18, duration: 362 s, loss: 0.0274, acc: 99.3254\n",
            "Accuracy of the network on the test images: 90 %\n",
            "Epoch 19, duration: 362 s, loss: 0.0263, acc: 99.4444\n",
            "Accuracy of the network on the test images: 90 %\n",
            "Epoch 20, duration: 363 s, loss: 0.0267, acc: 99.2857\n",
            "Accuracy of the network on the test images: 90 %\n",
            "Finished Training\n"
          ],
          "name": "stdout"
        }
      ]
    },
    {
      "cell_type": "markdown",
      "metadata": {
        "id": "-CqL2msh3oFv"
      },
      "source": [
        "Save trained model"
      ]
    },
    {
      "cell_type": "code",
      "metadata": {
        "id": "k321ME03e7nJ"
      },
      "source": [
        "#torch.save(model_ft, '/content/drive/My Drive/CS_T0828_HW1/model.pth')\n",
        "torch.save(model_ft, '/content/drive/My Drive/CS_T0828_HW1/model_resnet50.pth')"
      ],
      "execution_count": 8,
      "outputs": []
    },
    {
      "cell_type": "code",
      "metadata": {
        "id": "aWbVDsjFg51u",
        "outputId": "b6c8af62-2a4d-4bef-9106-ea1620ddb439",
        "colab": {
          "base_uri": "https://localhost:8080/",
          "height": 517
        }
      },
      "source": [
        "# plot the stats\n",
        "\n",
        "f, axarr = plt.subplots(2, 2, figsize=(12, 8))\n",
        "axarr[0, 0].plot(training_losses)\n",
        "axarr[0, 0].set_title(\"Training loss\")\n",
        "axarr[0, 1].plot(training_accs)\n",
        "axarr[0, 1].set_title(\"Training acc\")\n",
        "axarr[1, 0].plot(test_accs)\n",
        "\n",
        "axarr[1, 0].set_title(\"Test acc\")"
      ],
      "execution_count": 9,
      "outputs": [
        {
          "output_type": "execute_result",
          "data": {
            "text/plain": [
              "Text(0.5, 1.0, 'Test acc')"
            ]
          },
          "metadata": {
            "tags": []
          },
          "execution_count": 9
        },
        {
          "output_type": "display_data",
          "data": {
            "image/png": "[encoded data removed]",
            "text/plain": [
              "<Figure size 864x576 with 4 Axes>"
            ]
          },
          "metadata": {
            "tags": [],
            "needs_background": "light"
          }
        }
      ]
    },
    {
      "cell_type": "markdown",
      "metadata": {
        "id": "j0s3mKVVVFX0"
      },
      "source": [
        "Start inference"
      ]
    },
    {
      "cell_type": "code",
      "metadata": {
        "id": "yICstVcpr_rI"
      },
      "source": [
        "# tie the class indices to their names\n",
        "def find_classes(dir):\n",
        "  classes = os.listdir(dir)\n",
        "  classes.sort()\n",
        "  classes = ['Ram C/V Cargo Van Minivan 2012' if i=='Ram C V Cargo Van Minivan 2012' else i for i in classes]\n",
        "  class_to_idx = {classes[i]: i for i in range(len(classes))}\n",
        "  return classes, class_to_idx\n",
        "  \n",
        "classes, c_to_idx = find_classes(dataset_dir+'train')\n",
        "\n",
        "# Find the filnames in testing dataset\n",
        "def find_filename(dir):\n",
        "  filename_test = os.listdir(dir)\n",
        "  filename_test.sort()\n",
        "  for f in range(0, len(filename_test)):\n",
        "    filename_test[f] = filename_test[f].strip().strip('.jpg')\n",
        "  return filename_test\n",
        "\n",
        "filename_test = find_filename(dataset_dir+'cs-t0828-2020-hw1/testing_data/testing_data')"
      ],
      "execution_count": 10,
      "outputs": []
    },
    {
      "cell_type": "code",
      "metadata": {
        "id": "2iBNnfqeP6nt"
      },
      "source": [
        "# Inference\n",
        "import csv\n",
        "\n",
        "\n",
        "def predict():\n",
        "  #model = torch.load('/content/drive/My Drive/CS_T0828_HW1/model.pth')\n",
        "  model = torch.load('/content/drive/My Drive/CS_T0828_HW1/model_resnet50.pth')\n",
        "  model.eval()\n",
        "\n",
        "  test_transform = transforms.Compose([transforms.Resize((400, 400)),\n",
        "                      transforms.ToTensor(),\n",
        "                      transforms.Normalize((0.5, 0.5, 0.5), (0.5, 0.5, 0.5))])\n",
        "\n",
        "  testdataset = torchvision.datasets.ImageFolder(root=dataset_dir+'cs-t0828-2020-hw1/testing_data', transform=test_transform)\n",
        "  testloader = torch.utils.data.DataLoader(testdataset, batch_size=25, shuffle=False, num_workers=2)\n",
        "\n",
        "  counter = 0\n",
        "  #with open('/content/drive/My Drive/CS_T0828_HW1/predict.csv', 'w', newline='') as csvfile:\n",
        "  with open('/content/drive/My Drive/CS_T0828_HW1/predict2.csv', 'w', newline='') as csvfile:\n",
        "    writer = csv.writer(csvfile)\n",
        "    writer.writerow(['id', 'label'])\n",
        "    for i, data in enumerate(testloader, 0): \n",
        "      images, labels = data\n",
        "      images = images.to(device)\n",
        "\n",
        "      outputs = model(images)\n",
        "      conf, predicted = torch.max(outputs.data, 1)\n",
        "      for c in predicted:  \n",
        "        writer.writerow([filename_test[counter], classes[c.item()]])\n",
        "        counter+=1\n",
        "      print('step: ',i)\n",
        "  print('The number of testing images: ', counter)"
      ],
      "execution_count": 11,
      "outputs": []
    },
    {
      "cell_type": "code",
      "metadata": {
        "id": "ho2HXsHw9buJ"
      },
      "source": [
        "predict()"
      ],
      "execution_count": null,
      "outputs": []
    }
  ]
}